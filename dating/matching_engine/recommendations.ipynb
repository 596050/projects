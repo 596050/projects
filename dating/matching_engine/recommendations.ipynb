{
 "cells": [
  {
   "cell_type": "code",
   "execution_count": 355,
   "metadata": {},
   "outputs": [],
   "source": [
    "import json\n",
    "from elasticsearch import Elasticsearch\n",
    "import elasticsearch\n",
    "from IPython.display import HTML, display\n",
    "from pathlib import Path\n",
    "import pandas as pd\n",
    "import re\n",
    "import random\n",
    "import time\n",
    "\n",
    "PATH = str(Path.cwd().resolve())\n",
    "\n",
    "def read_csv(path):\n",
    "    return pd.read_csv(path)\n",
    "\n",
    "def print_files(path=PATH):\n",
    "    from os import listdir\n",
    "    from os.path import isfile, join\n",
    "    onlyfiles = [f for f in listdir(path) if isfile(join(path, f))]\n",
    "\n",
    "class GenerateFromList:\n",
    "    def __init__(self, l):\n",
    "        self.counter = 0\n",
    "        self.arr = l\n",
    "    def __iter__(self):\n",
    "        return self\n",
    "    def __next__(self):\n",
    "        value = self.arr[self.counter]\n",
    "        if self.counter > len(self.arr)-1:\n",
    "            raise StopIteration\n",
    "        else:\n",
    "            self.counter += 1\n",
    "            return value"
   ]
  },
  {
   "cell_type": "code",
   "execution_count": 43,
   "metadata": {},
   "outputs": [],
   "source": [
    "# GET INPUT DATA\n",
    "input_data_mentors = read_csv(PATH + \"/data/input/mentors.csv\")\n",
    "input_data_startups = read_csv(PATH + \"/data/input/startups.csv\")"
   ]
  },
  {
   "cell_type": "code",
   "execution_count": 44,
   "metadata": {},
   "outputs": [
    {
     "data": {
      "text/plain": [
       "(Index(['acronym', 'gmt', 'description', 'social_problem', 'exact_problem'], dtype='object'),\n",
       " Index(['mentor_id', 'gmt', 'first_pref', 'second_pref', 'third_pref',\n",
       "        'fourth_pref', 'fifth_pref', 'sixth_pref', 'seventh_pref',\n",
       "        'eighth_pref', 'skills', 'social_problems', 'personal_background'],\n",
       "       dtype='object'))"
      ]
     },
     "execution_count": 44,
     "metadata": {},
     "output_type": "execute_result"
    }
   ],
   "source": [
    "input_data_startups.keys(), input_data_mentors.keys()"
   ]
  },
  {
   "cell_type": "code",
   "execution_count": 45,
   "metadata": {},
   "outputs": [
    {
     "data": {
      "text/html": [
       "<div>\n",
       "<style scoped>\n",
       "    .dataframe tbody tr th:only-of-type {\n",
       "        vertical-align: middle;\n",
       "    }\n",
       "\n",
       "    .dataframe tbody tr th {\n",
       "        vertical-align: top;\n",
       "    }\n",
       "\n",
       "    .dataframe thead th {\n",
       "        text-align: right;\n",
       "    }\n",
       "</style>\n",
       "<table border=\"1\" class=\"dataframe\">\n",
       "  <thead>\n",
       "    <tr style=\"text-align: right;\">\n",
       "      <th></th>\n",
       "      <th>mentor_id</th>\n",
       "      <th>gmt</th>\n",
       "      <th>first_pref</th>\n",
       "      <th>second_pref</th>\n",
       "      <th>third_pref</th>\n",
       "      <th>fourth_pref</th>\n",
       "      <th>fifth_pref</th>\n",
       "      <th>sixth_pref</th>\n",
       "      <th>seventh_pref</th>\n",
       "      <th>eighth_pref</th>\n",
       "      <th>skills</th>\n",
       "      <th>social_problems</th>\n",
       "      <th>personal_background</th>\n",
       "    </tr>\n",
       "  </thead>\n",
       "  <tbody>\n",
       "    <tr>\n",
       "      <th>0</th>\n",
       "      <td>1</td>\n",
       "      <td>0.0</td>\n",
       "      <td>HD</td>\n",
       "      <td>BF</td>\n",
       "      <td>VWMC</td>\n",
       "      <td>NaN</td>\n",
       "      <td>NaN</td>\n",
       "      <td>NaN</td>\n",
       "      <td>NaN</td>\n",
       "      <td>NaN</td>\n",
       "      <td>Considering my professional experience, I can ...</td>\n",
       "      <td>Sustainability and public policies. I really b...</td>\n",
       "      <td>First of all, I will just introduce myself. I'...</td>\n",
       "    </tr>\n",
       "    <tr>\n",
       "      <th>1</th>\n",
       "      <td>2</td>\n",
       "      <td>0.0</td>\n",
       "      <td>PIS</td>\n",
       "      <td>BF</td>\n",
       "      <td>KCC</td>\n",
       "      <td>NaN</td>\n",
       "      <td>NaN</td>\n",
       "      <td>NaN</td>\n",
       "      <td>NaN</td>\n",
       "      <td>NaN</td>\n",
       "      <td>Finance, Project Management, Business Partneri...</td>\n",
       "      <td>Women, Poverty alleviation, Empowering small e...</td>\n",
       "      <td>Motivation - Help facilitate the empowering of...</td>\n",
       "    </tr>\n",
       "  </tbody>\n",
       "</table>\n",
       "</div>"
      ],
      "text/plain": [
       "   mentor_id  gmt first_pref second_pref third_pref  fourth_pref  fifth_pref  \\\n",
       "0          1  0.0         HD          BF       VWMC          NaN         NaN   \n",
       "1          2  0.0        PIS          BF        KCC          NaN         NaN   \n",
       "\n",
       "   sixth_pref  seventh_pref  eighth_pref  \\\n",
       "0         NaN           NaN          NaN   \n",
       "1         NaN           NaN          NaN   \n",
       "\n",
       "                                              skills  \\\n",
       "0  Considering my professional experience, I can ...   \n",
       "1  Finance, Project Management, Business Partneri...   \n",
       "\n",
       "                                     social_problems  \\\n",
       "0  Sustainability and public policies. I really b...   \n",
       "1  Women, Poverty alleviation, Empowering small e...   \n",
       "\n",
       "                                 personal_background  \n",
       "0  First of all, I will just introduce myself. I'...  \n",
       "1  Motivation - Help facilitate the empowering of...  "
      ]
     },
     "execution_count": 45,
     "metadata": {},
     "output_type": "execute_result"
    }
   ],
   "source": [
    "input_data_mentors.head(2)"
   ]
  },
  {
   "cell_type": "code",
   "execution_count": 46,
   "metadata": {},
   "outputs": [
    {
     "data": {
      "text/html": [
       "<div>\n",
       "<style scoped>\n",
       "    .dataframe tbody tr th:only-of-type {\n",
       "        vertical-align: middle;\n",
       "    }\n",
       "\n",
       "    .dataframe tbody tr th {\n",
       "        vertical-align: top;\n",
       "    }\n",
       "\n",
       "    .dataframe thead th {\n",
       "        text-align: right;\n",
       "    }\n",
       "</style>\n",
       "<table border=\"1\" class=\"dataframe\">\n",
       "  <thead>\n",
       "    <tr style=\"text-align: right;\">\n",
       "      <th></th>\n",
       "      <th>acronym</th>\n",
       "      <th>gmt</th>\n",
       "      <th>description</th>\n",
       "      <th>social_problem</th>\n",
       "      <th>exact_problem</th>\n",
       "    </tr>\n",
       "  </thead>\n",
       "  <tbody>\n",
       "    <tr>\n",
       "      <th>0</th>\n",
       "      <td>BF</td>\n",
       "      <td>-4</td>\n",
       "      <td>Pruda Integrated Solutions Int'l Ltd is a heal...</td>\n",
       "      <td>Bridging the gap in quality health solutions b...</td>\n",
       "      <td>Need to adopt a sustainable financing model to...</td>\n",
       "    </tr>\n",
       "    <tr>\n",
       "      <th>1</th>\n",
       "      <td>HD</td>\n",
       "      <td>0</td>\n",
       "      <td>Reduce St. Lucia s overall food-import bill by...</td>\n",
       "      <td>Helen's Daughters seeks to reduce St. Lucia's ...</td>\n",
       "      <td>The concept of social enterprise in the Easter...</td>\n",
       "    </tr>\n",
       "  </tbody>\n",
       "</table>\n",
       "</div>"
      ],
      "text/plain": [
       "  acronym  gmt                                        description  \\\n",
       "0      BF   -4  Pruda Integrated Solutions Int'l Ltd is a heal...   \n",
       "1      HD    0  Reduce St. Lucia s overall food-import bill by...   \n",
       "\n",
       "                                      social_problem  \\\n",
       "0  Bridging the gap in quality health solutions b...   \n",
       "1  Helen's Daughters seeks to reduce St. Lucia's ...   \n",
       "\n",
       "                                       exact_problem  \n",
       "0  Need to adopt a sustainable financing model to...  \n",
       "1  The concept of social enterprise in the Easter...  "
      ]
     },
     "execution_count": 46,
     "metadata": {},
     "output_type": "execute_result"
    }
   ],
   "source": [
    "input_data_startups.head(2)"
   ]
  },
  {
   "cell_type": "markdown",
   "metadata": {},
   "source": [
    "### Load into Elasticsearch\n"
   ]
  },
  {
   "cell_type": "code",
   "execution_count": 47,
   "metadata": {},
   "outputs": [
    {
     "name": "stdout",
     "output_type": "stream",
     "text": [
      "(8, 2, 0)\n",
      "Elasticsearch connected\n"
     ]
    }
   ],
   "source": [
    "# Connect elasticsearch\n",
    "# ! curl -XGET host.docker.internal:9200\n",
    "def connect_elasticsearch(protocol='http', host='host.docker.internal', port=9200):\n",
    "    _es = None\n",
    "    _es = Elasticsearch(f\"{protocol}://{host}:{port}\")\n",
    "    if _es.ping():\n",
    "        _es.info(pretty=True)\n",
    "        print('Elasticsearch connected')\n",
    "    else:\n",
    "        print('Elasticsearch NOT connected')\n",
    "    return _es\n",
    "\n",
    "print(elasticsearch.__version__)\n",
    "\n",
    "es = connect_elasticsearch()"
   ]
  },
  {
   "cell_type": "code",
   "execution_count": 48,
   "metadata": {},
   "outputs": [
    {
     "name": "stderr",
     "output_type": "stream",
     "text": [
      "/tmp/ipykernel_4176/277698820.py:56: DeprecationWarning: Passing transport options in the API method is deprecated. Use 'Elasticsearch.options()' instead.\n",
      "  es.indices.delete(index=ind['name'], ignore=[400, 404])\n"
     ]
    }
   ],
   "source": [
    "mentors_mapping = {\n",
    "    \"index\": \"mentors\",\n",
    "    \"mappings\": {\n",
    "        \"properties\": {\n",
    "            \"social_problems\": {\n",
    "                \"type\": \"text\"\n",
    "            },\n",
    "            \"personal_background\": {\n",
    "                \"type\": \"text\"\n",
    "            },\n",
    "            \"skills\": {\n",
    "                \"type\": \"text\"\n",
    "            },\n",
    "            \"mentor_id\": {\n",
    "                \"type\": \"text\"\n",
    "            }\n",
    "        }\n",
    "    } \n",
    "}\n",
    "\n",
    "startups_mapping = {\n",
    "    \"index\": \"startups\",\n",
    "    \"mappings\": {\n",
    "        \"properties\": {\n",
    "            \"social_problem\": {\n",
    "                \"type\": \"text\"\n",
    "            },\n",
    "            \"exact_problem\": {\n",
    "                \"type\": \"text\"\n",
    "            },\n",
    "            \"description\": {\n",
    "                \"type\": \"text\"\n",
    "            },\n",
    "            \"acronym\": {\n",
    "                \"type\": \"text\"\n",
    "            }\n",
    "        }\n",
    "    }\n",
    "}\n",
    "\n",
    "indices = [\n",
    "    {\n",
    "        \"name\": \"startups\",\n",
    "        \"data\": input_data_startups,\n",
    "        \"mapping\": startups_mapping\n",
    "    },\n",
    "    {\n",
    "        \"name\": \"mentors\",\n",
    "        \"data\": input_data_mentors,\n",
    "        \"mapping\": mentors_mapping\n",
    "    },  \n",
    "]\n",
    "\n",
    "# Delete and create indices\n",
    "for ind in indices:\n",
    "    es.indices.delete(index=ind['name'], ignore=[400, 404])\n",
    "    es.indices.create(**ind['mapping'])"
   ]
  },
  {
   "cell_type": "code",
   "execution_count": 49,
   "metadata": {},
   "outputs": [],
   "source": [
    "def store_record(name, record):\n",
    "    es.index(\n",
    "        index=name,\n",
    "        document=record\n",
    "    )\n",
    "\n",
    "# Load startups data into elasticsearch\n",
    "for _, record in indices[0]['data'].iterrows():\n",
    "    store_record('startups', record.to_dict())\n",
    "\n",
    "# Load all data into elasticsearch\n",
    "# for _, datum in ind['data'].iterrows():\n",
    "#     print(ind['name'], datum.to_dict())\n",
    "#     es.index(\n",
    "#         index=ind['name'],\n",
    "#         document=datum.to_dict()\n",
    "#     )"
   ]
  },
  {
   "cell_type": "markdown",
   "metadata": {},
   "source": [
    "# Matching Engine"
   ]
  },
  {
   "cell_type": "code",
   "execution_count": 103,
   "metadata": {},
   "outputs": [],
   "source": [
    "matching_criteria = [\n",
    "    {\n",
    "        \"startups\": \"description\",\n",
    "        \"mentors\": \"personal_background\"\n",
    "    },\n",
    "    {\n",
    "        \"startups\": \"social_problem\",\n",
    "        \"mentors\": \"social_problems\"\n",
    "    },\n",
    "    {\n",
    "        \"startups\": \"exact_problem\",\n",
    "        \"mentors\": \"skills\"\n",
    "    }\n",
    "]"
   ]
  },
  {
   "cell_type": "markdown",
   "metadata": {},
   "source": [
    "## TF-IDF"
   ]
  },
  {
   "cell_type": "code",
   "execution_count": null,
   "metadata": {},
   "outputs": [],
   "source": [
    "Yes, it returns you a tf - term frequency (you had both term frequency for this field, and ttf - which is total term frequency, e.g. sum of all tf's across all fields) and df - document frequency (you also had it in the response). You need to decide which tf-idf you want to calculate across only your field, or all fields. To compute tf-idf you need to do the following:\n",
    "\n",
    "N = doc_count\n",
    "idf = log (N / df)\n",
    "tf_idf = tf * idf"
   ]
  },
  {
   "cell_type": "markdown",
   "metadata": {},
   "source": [
    "## BM25"
   ]
  },
  {
   "cell_type": "code",
   "execution_count": 79,
   "metadata": {},
   "outputs": [
    {
     "name": "stderr",
     "output_type": "stream",
     "text": [
      "/tmp/ipykernel_4176/1109546383.py:8: DeprecationWarning: The 'body' parameter is deprecated and will be removed in a future version. Instead use individual parameters.\n",
      "  matching_startups = es.search(index=\"startups\", body={\n"
     ]
    },
    {
     "data": {
      "text/html": [
       "<div>\n",
       "<style scoped>\n",
       "    .dataframe tbody tr th:only-of-type {\n",
       "        vertical-align: middle;\n",
       "    }\n",
       "\n",
       "    .dataframe tbody tr th {\n",
       "        vertical-align: top;\n",
       "    }\n",
       "\n",
       "    .dataframe thead th {\n",
       "        text-align: right;\n",
       "    }\n",
       "</style>\n",
       "<table border=\"1\" class=\"dataframe\">\n",
       "  <thead>\n",
       "    <tr style=\"text-align: right;\">\n",
       "      <th></th>\n",
       "      <th>_index</th>\n",
       "      <th>_id</th>\n",
       "      <th>_score</th>\n",
       "      <th>_source</th>\n",
       "    </tr>\n",
       "  </thead>\n",
       "  <tbody>\n",
       "    <tr>\n",
       "      <th>0</th>\n",
       "      <td>startups</td>\n",
       "      <td>VmHRloEBzbWb8Ney4FP8</td>\n",
       "      <td>55.850548</td>\n",
       "      <td>{'acronym': 'PEA', 'gmt': -4, 'description': '...</td>\n",
       "    </tr>\n",
       "    <tr>\n",
       "      <th>1</th>\n",
       "      <td>startups</td>\n",
       "      <td>U2HRloEBzbWb8Ney4FPl</td>\n",
       "      <td>54.982094</td>\n",
       "      <td>{'acronym': 'HD', 'gmt': 0, 'description': 'Re...</td>\n",
       "    </tr>\n",
       "  </tbody>\n",
       "</table>\n",
       "</div>"
      ],
      "text/plain": [
       "     _index                   _id     _score  \\\n",
       "0  startups  VmHRloEBzbWb8Ney4FP8  55.850548   \n",
       "1  startups  U2HRloEBzbWb8Ney4FPl  54.982094   \n",
       "\n",
       "                                             _source  \n",
       "0  {'acronym': 'PEA', 'gmt': -4, 'description': '...  \n",
       "1  {'acronym': 'HD', 'gmt': 0, 'description': 'Re...  "
      ]
     },
     "execution_count": 79,
     "metadata": {},
     "output_type": "execute_result"
    }
   ],
   "source": [
    "# Example of single query without tuning\n",
    "\n",
    "# Source: https://www.elastic.co/guide/en/elasticsearch/reference/current/query-dsl-bool-query.html\n",
    "# Resources:\n",
    "# https://www.elastic.co/guide/en/elasticsearch/reference/current/query-dsl-boosting-query.html\n",
    "# https://www.elastic.co/guide/en/app-search/current/relevance-tuning-guide.html?baymax=rec&rogue=rec-1&elektra=guide\n",
    "\n",
    "matching_startups = es.search(index=\"startups\", body={\n",
    "  \"query\": {\n",
    "    \"bool\": {\n",
    "      \"should\": [\n",
    "        {\n",
    "          \"match\": {\n",
    "            \"social_problem\": {\n",
    "              \"query\": \"Sustainability and public policies. I really believe that we need to improve our process, independent of which sector the company is focused. We have a huge opportunity to do more using less, amplifying the quality of the services and how we interact with our natural capital.\"\n",
    "            }\n",
    "          }\n",
    "        },\n",
    "        {\n",
    "          \"match\": {\n",
    "            \"exact_problem\": \"Considering my professional experience, I can contribute with any public interactions that the startups have to deal, such as licensing, taxation or public funding. Also, if the area of the company underpins with participatory actions (policies, development, social business), I believe that my backgrounds can help a new point of view about their practices. Furthermore, my specialisation in business management allows me to give advice in any area related to strategy, basic finances and human resources management, canvas, business plan, etc. To finish, the development of my Masters already permits me support any company that works with sustainability, energy and related areas.\"\n",
    "          }\n",
    "        },\n",
    "        {\n",
    "          \"match\": {\n",
    "            \"description\": \"First of all, I will just introduce myself. I'm Brazilian, 26 years old and doing an MSc in Economics, Policy of Energy and the Environment at UCL. I'm also a Chevening scholar , a programme created by the UK Government to allow leaders from developing countries doing Masters in the UK with the focus of fostering the growth of their areas after concluding the studies. \\r\\n\\r\\nMy backgrounds are in Public Administration, in which I have a bachelor, and Business Management, in which I have a specialisation. As a specialist in public policies and governmental management, I have worked for 4 years in my state government. Considering that my career was created to be a generalist expert in public policies, I had the opportunity to work in many areas, such as education, culture, economic development and participatory policies. In addition, I was volunteer in AIESEC (a platform to develop young leadership through exchanges) which helped me to improve my skills as a manager. I believe that I have the potential to help the Bridges for Enterprises with my past experience and knowledge. Although my professional background is in the public sector, I had the possibility to work with many companies in the private sector, and a fast experience in the startup programme of my state (SEED-MG). My willingness is to help the companies to foster their development, adding my expertise, and also learning with them new models of business.\"\n",
    "          }\n",
    "        }\n",
    "      ]\n",
    "    }\n",
    "  }\n",
    "}, size=10)\n",
    "\n",
    "pd.DataFrame(dict(matching_startups)['hits']['hits']).head(2)"
   ]
  },
  {
   "cell_type": "code",
   "execution_count": 484,
   "metadata": {
    "scrolled": true
   },
   "outputs": [],
   "source": [
    "def generate_tf_idf_matches(query_index_data, query_index_name, index_name, size=10, matching_criteria=matching_criteria):\n",
    "    shouldQuery = []\n",
    "    \n",
    "    for criterion in matching_criteria:\n",
    "        shouldQuery.append({\n",
    "            \"match\": {\n",
    "                criterion[index_name]: {\n",
    "                    \"query\": query_index_data[criterion[query_index_name]]\n",
    "                }\n",
    "            }\n",
    "        })\n",
    "    return { \"bool\": { \"should\": shouldQuery } }\n",
    "\n",
    "def startups_for_mentor(mentor):\n",
    "    return generate_matches(query_index_data=mentor, query_index_name='mentors', index_name=\"startups\")\n",
    "\n",
    "def get_matching_startups_list(query):\n",
    "    return es.search(index=\"startups\", body={ \"query\": query })"
   ]
  },
  {
   "cell_type": "code",
   "execution_count": 485,
   "metadata": {},
   "outputs": [],
   "source": [
    "startups_queries = []\n",
    "for _, mentor in input_data_mentors.iterrows():\n",
    "    startups_queries.append((mentor['mentor_id'], startups_for_mentor(mentor)))\n",
    "iterator = GenerateFromList(startups_queries)"
   ]
  },
  {
   "cell_type": "code",
   "execution_count": 486,
   "metadata": {},
   "outputs": [
    {
     "name": "stdout",
     "output_type": "stream",
     "text": [
      "mentor_id 1\n",
      "acronym: PEA score: 55.850548\n",
      "acronym: HD score: 54.982094\n",
      "acronym: VWMC score: 48.646976\n",
      "acronym: KCC score: 39.83787\n",
      "acronym: LGI score: 39.393284\n",
      "acronym: BF score: 34.593166\n",
      "acronym: PIS score: 34.593166\n"
     ]
    },
    {
     "name": "stderr",
     "output_type": "stream",
     "text": [
      "/tmp/ipykernel_4176/2561640667.py:18: DeprecationWarning: The 'body' parameter is deprecated and will be removed in a future version. Instead use individual parameters.\n",
      "  return es.search(index=\"startups\", body={ \"query\": query })\n"
     ]
    },
    {
     "data": {
      "text/html": [
       "<div>\n",
       "<style scoped>\n",
       "    .dataframe tbody tr th:only-of-type {\n",
       "        vertical-align: middle;\n",
       "    }\n",
       "\n",
       "    .dataframe tbody tr th {\n",
       "        vertical-align: top;\n",
       "    }\n",
       "\n",
       "    .dataframe thead th {\n",
       "        text-align: right;\n",
       "    }\n",
       "</style>\n",
       "<table border=\"1\" class=\"dataframe\">\n",
       "  <thead>\n",
       "    <tr style=\"text-align: right;\">\n",
       "      <th></th>\n",
       "      <th>_index</th>\n",
       "      <th>_id</th>\n",
       "      <th>_score</th>\n",
       "      <th>_source</th>\n",
       "    </tr>\n",
       "  </thead>\n",
       "  <tbody>\n",
       "    <tr>\n",
       "      <th>0</th>\n",
       "      <td>startups</td>\n",
       "      <td>VmHRloEBzbWb8Ney4FP8</td>\n",
       "      <td>55.850548</td>\n",
       "      <td>{'acronym': 'PEA', 'gmt': -4, 'description': '...</td>\n",
       "    </tr>\n",
       "    <tr>\n",
       "      <th>1</th>\n",
       "      <td>startups</td>\n",
       "      <td>U2HRloEBzbWb8Ney4FPl</td>\n",
       "      <td>54.982094</td>\n",
       "      <td>{'acronym': 'HD', 'gmt': 0, 'description': 'Re...</td>\n",
       "    </tr>\n",
       "    <tr>\n",
       "      <th>2</th>\n",
       "      <td>startups</td>\n",
       "      <td>WGHRloEBzbWb8Ney4VMH</td>\n",
       "      <td>48.646976</td>\n",
       "      <td>{'acronym': 'VWMC', 'gmt': 9, 'description': '...</td>\n",
       "    </tr>\n",
       "    <tr>\n",
       "      <th>3</th>\n",
       "      <td>startups</td>\n",
       "      <td>VGHRloEBzbWb8Ney4FPv</td>\n",
       "      <td>39.837870</td>\n",
       "      <td>{'acronym': 'KCC', 'gmt': -4, 'description': '...</td>\n",
       "    </tr>\n",
       "    <tr>\n",
       "      <th>4</th>\n",
       "      <td>startups</td>\n",
       "      <td>VWHRloEBzbWb8Ney4FPz</td>\n",
       "      <td>39.393284</td>\n",
       "      <td>{'acronym': 'LGI', 'gmt': 9, 'description': 'T...</td>\n",
       "    </tr>\n",
       "  </tbody>\n",
       "</table>\n",
       "</div>"
      ],
      "text/plain": [
       "     _index                   _id     _score  \\\n",
       "0  startups  VmHRloEBzbWb8Ney4FP8  55.850548   \n",
       "1  startups  U2HRloEBzbWb8Ney4FPl  54.982094   \n",
       "2  startups  WGHRloEBzbWb8Ney4VMH  48.646976   \n",
       "3  startups  VGHRloEBzbWb8Ney4FPv  39.837870   \n",
       "4  startups  VWHRloEBzbWb8Ney4FPz  39.393284   \n",
       "\n",
       "                                             _source  \n",
       "0  {'acronym': 'PEA', 'gmt': -4, 'description': '...  \n",
       "1  {'acronym': 'HD', 'gmt': 0, 'description': 'Re...  \n",
       "2  {'acronym': 'VWMC', 'gmt': 9, 'description': '...  \n",
       "3  {'acronym': 'KCC', 'gmt': -4, 'description': '...  \n",
       "4  {'acronym': 'LGI', 'gmt': 9, 'description': 'T...  "
      ]
     },
     "execution_count": 486,
     "metadata": {},
     "output_type": "execute_result"
    }
   ],
   "source": [
    "mentor = iterator.__next__()\n",
    "matching_startups = get_matching_startups_list(mentor[1])\n",
    "hits = pd.DataFrame(dict(matching_startups)['hits']['hits'])\n",
    "print(\"mentor_id\", mentor[0])\n",
    "for idx, x in enumerate(hits['_source']):\n",
    "    score = hits['_score'][idx]\n",
    "    print('acronym:', x['acronym'], 'score:', score)\n",
    "hits.head()"
   ]
  },
  {
   "cell_type": "markdown",
   "metadata": {},
   "source": [
    "## Vector Similarity"
   ]
  },
  {
   "cell_type": "code",
   "execution_count": null,
   "metadata": {},
   "outputs": [],
   "source": []
  },
  {
   "cell_type": "markdown",
   "metadata": {},
   "source": [
    "## Semantic search"
   ]
  },
  {
   "cell_type": "markdown",
   "metadata": {},
   "source": [
    "Traditional keyword search does not consider lexical variants or conceptual matches to the user’s search phrase. If the precise wording used in the query cannot be found in the overall content, incorrect results would be provided to the user.\n",
    "\n",
    "if we wanted to find similar documents based on something more abstract - like the meaning of a word or the style of writing? This is where Elasticsearch's dense vector field datatype, and script-score queries for vector fields come into play."
   ]
  },
  {
   "cell_type": "markdown",
   "metadata": {},
   "source": [
    "\n"
   ]
  },
  {
   "cell_type": "code",
   "execution_count": null,
   "metadata": {},
   "outputs": [],
   "source": [
    "# FAISS - search for similar vectors, which are closest to eachother in terms of cosine similarity\n",
    "# https://blog.accubits.com/vector-similarity-search-using-elasticsearch/\n",
    "VECTOR_DIM = 20"
   ]
  },
  {
   "cell_type": "code",
   "execution_count": null,
   "metadata": {},
   "outputs": [],
   "source": [
    "from pyspark.ml.recommendation import ALS\n",
    "from pyspark.sql.functions import col\n",
    "from pyspark.sql import SparkSession\n",
    "\n",
    "spark = SparkSession.builder.appName('test').getOrCreate()\n",
    "\n",
    "ratings_from_es = spark.read.options(inferSchema=True, header=True).csv(\"ratings.csv\")\n",
    "ratings_from_es.show(5)\n",
    "\n",
    "als = ALS(userCol=\"userId\", itemCol=\"contentId\", ratingCol=\"rating\", regParam=0.02, rank=VECTOR_DIM, seed=54)\n",
    "model = als.fit(ratings_from_es)\n",
    "model.userFactors.show(5)\n",
    "model.itemFactors.show(5)"
   ]
  },
  {
   "cell_type": "code",
   "execution_count": null,
   "metadata": {},
   "outputs": [],
   "source": [
    "from pyspark.sql.functions import lit, current_timestamp, unix_timestamp\n",
    "\n",
    "ver = model.uid\n",
    "ts = unix_timestamp(current_timestamp())\n",
    "content_vectors = model.itemFactors.select(\"id\",\\\n",
    "                                         col(\"features\").alias(\"model_factor\"),\\\n",
    "                                         lit(ver).alias(\"model_version\"),\\\n",
    "                                         ts.alias(\"model_timestamp\"))\n",
    "content_vectors.show(5)\n",
    "user_vectors = model.userFactors.select(\"id\",\\\n",
    "                                        col(\"features\").alias(\"model_factor\"),\\\n",
    "                                        lit(ver).alias(\"model_version\"),\\\n",
    "                                        ts.alias(\"model_timestamp\"))\n",
    "user_vectors.show(5)"
   ]
  },
  {
   "cell_type": "code",
   "execution_count": 13,
   "metadata": {},
   "outputs": [],
   "source": [
    "df_rows = [row.asDict() for row in content_vectors.collect()]\n",
    "# Make into bulk query\n",
    "for row in df_rows:\n",
    "    search_result = es.search(index='content', query={'match': {'contentId': row['id']}})\n",
    "    hits = search_result['hits']['hits']\n",
    "    search_id = hits[0]['_id']\n",
    "    es.update(index='content', id=search_id, doc={'model_factor': row['model_factor']})\n",
    "\n",
    "# content_vectors.write.format(\"csv\")\n",
    "# .option(\"es.write.operation\", \"index\") \\\n",
    "# .save(\"users\", mode=\"append\")\n"
   ]
  },
  {
   "cell_type": "code",
   "execution_count": null,
   "metadata": {},
   "outputs": [],
   "source": [
    "user_df_rows = [row.asDict() for row in user_vectors.collect()]\n",
    "for row in user_df_rows:\n",
    "    search_result = es.search(index='users', query={'match': {'userId': row['id']}})\n",
    "    hits = search_result['hits']['hits']\n",
    "#     print(row, hits)\n",
    "    search_id = hits[0]['_id']\n",
    "    es.update(index='users', id=search_id, doc={'model_factor': row['model_factor']})"
   ]
  },
  {
   "cell_type": "code",
   "execution_count": 14,
   "metadata": {},
   "outputs": [],
   "source": [
    "from IPython.display import Image, HTML, display\n",
    "    \n",
    "def vector_query(query_vec, vector_field, q=\"*\", cosine=False):\n",
    "    if cosine:\n",
    "        score_fn = \"doc['{v}'].size() == 0 ? 0 : cosineSimilarity(params.vector, '{v}') + 1.0\"\n",
    "    else:\n",
    "        score_fn = \"doc['{v}'].size() == 0 ? 0 : sigmoid(1, Math.E, -dotProduct(params.vector, '{v}'))\"\n",
    "       \n",
    "    score_fn = score_fn.format(v=vector_field, fn=score_fn)\n",
    "    \n",
    "    return {\n",
    "    \"query\": {\n",
    "        \"script_score\": {\n",
    "            \"query\" : { \n",
    "                \"query_string\": {\n",
    "                    \"query\": q\n",
    "                }\n",
    "            },\n",
    "            \"script\": {\n",
    "                \"source\": score_fn,\n",
    "                \"params\": {\n",
    "                    \"vector\": query_vec\n",
    "                }\n",
    "            }\n",
    "        }\n",
    "    }\n",
    "}\n",
    "\n",
    "\n",
    "def get_content_recommendations(content_id, q=\"*\", num=10, index=\"content\", vector_field='model_factor'):\n",
    "    response = es.get(index=index, id=content_id)\n",
    "    src = response['_source']\n",
    "    if vector_field in src:\n",
    "        query_vec = src[vector_field]\n",
    "        q = vector_query(query_vec, vector_field, q=q, cosine=True)\n",
    "        results = es.search(index=index, body=q)\n",
    "        hits = results['hits']['hits']\n",
    "        return src, hits[1:num+1]\n",
    "\n",
    "def get_collaborative_recommendations(user_id, q=\"*\", num=10, users=\"users\", content=\"content\", vector_field='model_factor'):\n",
    "    response = es.get(index=users, id=user_id)\n",
    "    src = response['_source']\n",
    "    if vector_field in src:\n",
    "        query_vec = src[vector_field]\n",
    "        q = vector_query(query_vec, vector_field, q=q, cosine=False)\n",
    "        results = es.search(index=content, body=q)\n",
    "        hits = results['hits']['hits']\n",
    "        return src, hits[:num]\n",
    "\n",
    "def get_content_for_user(the_id, num=10, ratings=\"ratings\", content=\"content\"):\n",
    "    response = es.search(index=ratings, q=\"userId:{}\".format(the_id), size=num, sort=[\"rating:desc\"])\n",
    "    # Get content to display from database\n"
   ]
  },
  {
   "cell_type": "markdown",
   "metadata": {},
   "source": [
    "### Test recommender model on ratings"
   ]
  },
  {
   "cell_type": "code",
   "execution_count": 33,
   "metadata": {},
   "outputs": [],
   "source": [
    "       \n",
    "def display_user_recs(the_id, q=\"*\", num=10, num_last=10, users=\"users\", content=\"content\", ratings=\"ratings\"):\n",
    "    user, recs = get_collaborative_recommendations(the_id, q, num, users, content)\n",
    "    rec_html = \"<div><h1>Collaborative filtering</h1></div><table><tr>\"\n",
    "    rec_html += '<tr><td><h5>%s</h5></td></tr><tr>'% (user['userId'])\n",
    "    i = 0\n",
    "    for rec in recs:\n",
    "        r_score = rec['_score']\n",
    "        r_title = rec['_source']['title']\n",
    "        rec_html += \"<td><h5>%s</h5></td><td><h5>%2.3f</h5></td>\" % (r_title, r_score)\n",
    "        rec_html += \"<td><h5>%s</h5></td><td><h5>%s</h5></td>\" % (rec['_id'], rec['_source']['contentId'])\n",
    "        i += 1\n",
    "        if i % 2 == 0:\n",
    "            rec_html += \"</tr><tr>\"\n",
    "    rec_html += \"</tr></table>\"\n",
    "    display(HTML(rec_html))\n",
    "    \n",
    "def display_similar(the_id, q=\"*\", num=10, content=\"content\"):\n",
    "    content, recs = get_content_recommendations(the_id, q, num, content)\n",
    "    sim_html = \"<div><h1>Collaborative filtering</h1></div><table><tr>\"\n",
    "    sim_html += '<tr><td><h5>%s</h5></td></tr><tr>'% (content['contentId'])\n",
    "    i = 0\n",
    "#     print(content, recs)\n",
    "    while i < len(recs):\n",
    "        rec = recs[i]\n",
    "#         print('rec', rec)\n",
    "        r_score = rec['_score']\n",
    "        r_title = rec['_source']['title']\n",
    "        sim_html += \"<td><h5>%s</h5></td><td><h5>%2.3f</h5></td>\" % (r_title, r_score)\n",
    "        sim_html += \"<td><h5>%s</h5></td><td><h5>%s</h5></td>\" % (rec['_id'], rec['_source']['contentId'])\n",
    "#         sim_html += \"<td></td><td><h5>%s</h5></td>\" % (rec['_source']['categories'])\n",
    "        i += 1\n",
    "        if i % 2 == 0:\n",
    "            sim_html += \"</tr><tr>\"\n",
    "    sim_html += \"</tr></table>\"\n",
    "    \n",
    "    sim_html += \"<div>%s</div>\" % (content)\n",
    "    display(HTML(sim_html))"
   ]
  },
  {
   "cell_type": "code",
   "execution_count": null,
   "metadata": {},
   "outputs": [],
   "source": [
    "# Content-based recommendations\n",
    "# display_similar(\"c64DHIEB7HVHvMB2kNDl\")"
   ]
  },
  {
   "cell_type": "code",
   "execution_count": 34,
   "metadata": {},
   "outputs": [
    {
     "name": "stderr",
     "output_type": "stream",
     "text": [
      "/tmp/ipykernel_387/1550461643.py:46: DeprecationWarning: The 'body' parameter is deprecated and will be removed in a future version. Instead use individual parameters.\n",
      "  results = es.search(index=content, body=q)\n"
     ]
    },
    {
     "data": {
      "text/html": [
       "<table><tr><tr><td><h5>10</h5></td></tr><tr><td><h5>Addiction Anxiety, Anger or Stress Anxiety, Anger or Stress Debt or Looking</h5></td><td><h5>0.997</h5></td><td><h5>rMpSHIEBpvDZv_h5xYKg</h5></td><td><h5>1188</h5></td><td><h5>Victim Or Involved In Crime Relationship or Bereavement Relationship or Bereavement Addiction Addiction Suicide</h5></td><td><h5>0.997</h5></td><td><h5>YcpSHIEBpvDZv_h554jC</h5></td><td><h5>4232</h5></td></tr><tr><td><h5>Relationship Or Bereavement Parenting Body image or Eating disorders Anxiety, Anger or Stress Relationship or</h5></td><td><h5>0.995</h5></td><td><h5>9spSHIEBpvDZv_h53Ybg</h5></td><td><h5>1021</h5></td><td><h5>Sleeping Problems Debt or Looking for Employment Victim or Involved in Crime Debt or Looking for Employment Victim or Involved in Crime Addiction</h5></td><td><h5>0.995</h5></td><td><h5>gcpSHIEBpvDZv_h5z4SZ</h5></td><td><h5>45668</h5></td></tr><tr><td><h5>Sleeping Problems Low, Depressed or Lonely Low, Depressed or Lonely LGBTQ+ or Gender identity Victim or Involved</h5></td><td><h5>0.994</h5></td><td><h5>PspTHIEBpvDZv_h5Eo5v</h5></td><td><h5>4069</h5></td><td><h5>Victim Or Involved In Crime Body image</h5></td><td><h5>0.994</h5></td><td><h5>z8pTHIEBpvDZv_h5Tpje</h5></td><td><h5>2919</h5></td></tr><tr><td><h5>Parenting Childhood abuse</h5></td><td><h5>0.994</h5></td><td><h5>yMpTHIEBpvDZv_h5EI0R</h5></td><td><h5>6385</h5></td><td><h5>Lgbtq+ Or Gender Identity Debt or Looking for Employment</h5></td><td><h5>0.994</h5></td><td><h5>58pSHIEBpvDZv_h50oSW</h5></td><td><h5>71579</h5></td></tr><tr><td><h5>Addiction Victim or Involved in Crime Childhood abuse or Bullying Addiction Sleeping problems Suicide</h5></td><td><h5>0.993</h5></td><td><h5>x8pSHIEBpvDZv_h50YTZ</h5></td><td><h5>8869</h5></td><td><h5>Lgbtq+ Or Gender Identity Victim or Involved in Crime LGBTQ+</h5></td><td><h5>0.993</h5></td><td><h5>f8pSHIEBpvDZv_h5xIK5</h5></td><td><h5>222</h5></td></tr><tr></tr></table>"
      ],
      "text/plain": [
       "<IPython.core.display.HTML object>"
      ]
     },
     "metadata": {},
     "output_type": "display_data"
    }
   ],
   "source": [
    "# Collaborative recommendations\n",
    "display_user_recs(\"VMpcHIEBpvDZv_h5-acx\")"
   ]
  },
  {
   "cell_type": "code",
   "execution_count": null,
   "metadata": {},
   "outputs": [],
   "source": [
    "# search_after\n",
    "# res = es.search(index='content', query={\"match_all\": {}}, size=999)\n",
    "# res[\"hits\"][\"hits\"]"
   ]
  },
  {
   "cell_type": "markdown",
   "metadata": {},
   "source": [
    "## Evaluation"
   ]
  },
  {
   "cell_type": "code",
   "execution_count": null,
   "metadata": {},
   "outputs": [],
   "source": [
    "# # Build the recommendation model using ALS on the training data\n",
    "# # Note we set cold start strategy to 'drop' to ensure we don't get NaN evaluation metrics\n",
    "# als = ALS(maxIter=2, regParam=0.01, \n",
    "#           userCol=\"user_id\", itemCol=\"primary_video_id\", ratingCol=\"watching_percentage\",\n",
    "#           coldStartStrategy=\"drop\",\n",
    "#           implicitPrefs=False) #changed param!\n",
    "# model = als.fit(training)\n",
    "\n",
    "# # Evaluate the model by computing the RMSE on the test data\n",
    "# predictions = model.transform(test)\n",
    "# evaluator = RegressionEvaluator(metricName=\"rmse\", labelCol=\"watching_percentage\",\n",
    "#                                 predictionCol=\"prediction\")\n",
    "\n",
    "# rmse = evaluator.evaluate(predictions)\n",
    "# print(\"Root-mean-square error = \" + str(rmse))"
   ]
  },
  {
   "cell_type": "code",
   "execution_count": null,
   "metadata": {},
   "outputs": [],
   "source": [
    "# GET REFERENCE DATA\n",
    "reference_data_mentors = read_csv(PATH + \"/data/reference/reference_mentors.csv\")\n",
    "reference_data_mentors_2 = read_csv(PATH + \"/data/reference/reference_mentors_2.csv\")\n",
    "\n",
    "reference_data_startups = read_csv(PATH + \"/data/reference/reference_startups.csv\")\n",
    "reference_data_startups_2 = read_csv(PATH + \"/data/reference/reference_startups_2.csv\")"
   ]
  }
 ],
 "metadata": {
  "kernelspec": {
   "display_name": "Python 3 (ipykernel)",
   "language": "python",
   "name": "python3"
  },
  "language_info": {
   "codemirror_mode": {
    "name": "ipython",
    "version": 3
   },
   "file_extension": ".py",
   "mimetype": "text/x-python",
   "name": "python",
   "nbconvert_exporter": "python",
   "pygments_lexer": "ipython3",
   "version": "3.10.5"
  },
  "vscode": {
   "interpreter": {
    "hash": "fb6370694639b1b3f997bbcec08f2284dab7dab1d604d23ad56b798bf4e1b2d5"
   }
  }
 },
 "nbformat": 4,
 "nbformat_minor": 2
}
